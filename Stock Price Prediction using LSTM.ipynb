{
 "cells": [
  {
   "cell_type": "markdown",
   "id": "0fcef217",
   "metadata": {},
   "source": [
    "# Data Science Internship-Bharat Intern"
   ]
  },
  {
   "cell_type": "markdown",
   "id": "59fddfbc",
   "metadata": {},
   "source": [
    "# Task1-Stock Prediction"
   ]
  },
  {
   "cell_type": "markdown",
   "id": "ac7e4d3b",
   "metadata": {},
   "source": [
    "Name-Gayatri Ballal"
   ]
  },
  {
   "cell_type": "code",
   "execution_count": 1,
   "id": "adc9d14e",
   "metadata": {},
   "outputs": [
    {
     "name": "stdout",
     "output_type": "stream",
     "text": [
      "Requirement already satisfied: keras in c:\\users\\hp\\appdata\\local\\programs\\python\\python310\\lib\\site-packages (2.13.1)\n",
      "Note: you may need to restart the kernel to use updated packages.\n"
     ]
    },
    {
     "name": "stderr",
     "output_type": "stream",
     "text": [
      "\n",
      "[notice] A new release of pip available: 22.2.1 -> 23.2.1\n",
      "[notice] To update, run: python.exe -m pip install --upgrade pip\n"
     ]
    }
   ],
   "source": [
    "pip install keras"
   ]
  },
  {
   "cell_type": "code",
   "execution_count": 2,
   "id": "cf3ed4b2",
   "metadata": {},
   "outputs": [
    {
     "name": "stdout",
     "output_type": "stream",
     "text": [
      "Requirement already satisfied: tensorflow in c:\\users\\hp\\appdata\\local\\programs\\python\\python310\\lib\\site-packages (2.13.0)\n",
      "Requirement already satisfied: tensorflow-intel==2.13.0 in c:\\users\\hp\\appdata\\local\\programs\\python\\python310\\lib\\site-packages (from tensorflow) (2.13.0)\n",
      "Requirement already satisfied: wrapt>=1.11.0 in c:\\users\\hp\\appdata\\local\\programs\\python\\python310\\lib\\site-packages (from tensorflow-intel==2.13.0->tensorflow) (1.15.0)\n",
      "Requirement already satisfied: tensorflow-estimator<2.14,>=2.13.0 in c:\\users\\hp\\appdata\\local\\programs\\python\\python310\\lib\\site-packages (from tensorflow-intel==2.13.0->tensorflow) (2.13.0)\n",
      "Requirement already satisfied: six>=1.12.0 in c:\\users\\hp\\appdata\\local\\programs\\python\\python310\\lib\\site-packages (from tensorflow-intel==2.13.0->tensorflow) (1.16.0)\n",
      "Requirement already satisfied: google-pasta>=0.1.1 in c:\\users\\hp\\appdata\\local\\programs\\python\\python310\\lib\\site-packages (from tensorflow-intel==2.13.0->tensorflow) (0.2.0)\n",
      "Requirement already satisfied: opt-einsum>=2.3.2 in c:\\users\\hp\\appdata\\local\\programs\\python\\python310\\lib\\site-packages (from tensorflow-intel==2.13.0->tensorflow) (3.3.0)\n",
      "Requirement already satisfied: keras<2.14,>=2.13.1 in c:\\users\\hp\\appdata\\local\\programs\\python\\python310\\lib\\site-packages (from tensorflow-intel==2.13.0->tensorflow) (2.13.1)\n",
      "Requirement already satisfied: typing-extensions<4.6.0,>=3.6.6 in c:\\users\\hp\\appdata\\local\\programs\\python\\python310\\lib\\site-packages (from tensorflow-intel==2.13.0->tensorflow) (4.5.0)\n",
      "Requirement already satisfied: packaging in c:\\users\\hp\\appdata\\local\\programs\\python\\python310\\lib\\site-packages (from tensorflow-intel==2.13.0->tensorflow) (21.3)\n",
      "Requirement already satisfied: absl-py>=1.0.0 in c:\\users\\hp\\appdata\\local\\programs\\python\\python310\\lib\\site-packages (from tensorflow-intel==2.13.0->tensorflow) (1.4.0)\n",
      "Requirement already satisfied: h5py>=2.9.0 in c:\\users\\hp\\appdata\\local\\programs\\python\\python310\\lib\\site-packages (from tensorflow-intel==2.13.0->tensorflow) (3.9.0)\n",
      "Requirement already satisfied: numpy<=1.24.3,>=1.22 in c:\\users\\hp\\appdata\\local\\programs\\python\\python310\\lib\\site-packages (from tensorflow-intel==2.13.0->tensorflow) (1.23.3)\n",
      "Requirement already satisfied: gast<=0.4.0,>=0.2.1 in c:\\users\\hp\\appdata\\local\\programs\\python\\python310\\lib\\site-packages (from tensorflow-intel==2.13.0->tensorflow) (0.4.0)\n",
      "Requirement already satisfied: termcolor>=1.1.0 in c:\\users\\hp\\appdata\\local\\programs\\python\\python310\\lib\\site-packages (from tensorflow-intel==2.13.0->tensorflow) (2.3.0)\n",
      "Requirement already satisfied: flatbuffers>=23.1.21 in c:\\users\\hp\\appdata\\local\\programs\\python\\python310\\lib\\site-packages (from tensorflow-intel==2.13.0->tensorflow) (23.5.26)\n",
      "Requirement already satisfied: astunparse>=1.6.0 in c:\\users\\hp\\appdata\\local\\programs\\python\\python310\\lib\\site-packages (from tensorflow-intel==2.13.0->tensorflow) (1.6.3)\n",
      "Requirement already satisfied: tensorflow-io-gcs-filesystem>=0.23.1 in c:\\users\\hp\\appdata\\local\\programs\\python\\python310\\lib\\site-packages (from tensorflow-intel==2.13.0->tensorflow) (0.31.0)\n",
      "Requirement already satisfied: protobuf!=4.21.0,!=4.21.1,!=4.21.2,!=4.21.3,!=4.21.4,!=4.21.5,<5.0.0dev,>=3.20.3 in c:\\users\\hp\\appdata\\local\\programs\\python\\python310\\lib\\site-packages (from tensorflow-intel==2.13.0->tensorflow) (4.24.0)\n",
      "Requirement already satisfied: tensorboard<2.14,>=2.13 in c:\\users\\hp\\appdata\\local\\programs\\python\\python310\\lib\\site-packages (from tensorflow-intel==2.13.0->tensorflow) (2.13.0)\n",
      "Requirement already satisfied: grpcio<2.0,>=1.24.3 in c:\\users\\hp\\appdata\\local\\programs\\python\\python310\\lib\\site-packages (from tensorflow-intel==2.13.0->tensorflow) (1.56.2)\n",
      "Requirement already satisfied: libclang>=13.0.0 in c:\\users\\hp\\appdata\\local\\programs\\python\\python310\\lib\\site-packages (from tensorflow-intel==2.13.0->tensorflow) (16.0.6)\n",
      "Requirement already satisfied: setuptools in c:\\users\\hp\\appdata\\local\\programs\\python\\python310\\lib\\site-packages (from tensorflow-intel==2.13.0->tensorflow) (63.2.0)\n",
      "Requirement already satisfied: wheel<1.0,>=0.23.0 in c:\\users\\hp\\appdata\\local\\programs\\python\\python310\\lib\\site-packages (from astunparse>=1.6.0->tensorflow-intel==2.13.0->tensorflow) (0.41.1)\n",
      "Requirement already satisfied: werkzeug>=1.0.1 in c:\\users\\hp\\appdata\\local\\programs\\python\\python310\\lib\\site-packages (from tensorboard<2.14,>=2.13->tensorflow-intel==2.13.0->tensorflow) (2.2.3)\n",
      "Requirement already satisfied: requests<3,>=2.21.0 in c:\\users\\hp\\appdata\\local\\programs\\python\\python310\\lib\\site-packages (from tensorboard<2.14,>=2.13->tensorflow-intel==2.13.0->tensorflow) (2.28.1)\n",
      "Requirement already satisfied: tensorboard-data-server<0.8.0,>=0.7.0 in c:\\users\\hp\\appdata\\local\\programs\\python\\python310\\lib\\site-packages (from tensorboard<2.14,>=2.13->tensorflow-intel==2.13.0->tensorflow) (0.7.1)\n",
      "Requirement already satisfied: markdown>=2.6.8 in c:\\users\\hp\\appdata\\local\\programs\\python\\python310\\lib\\site-packages (from tensorboard<2.14,>=2.13->tensorflow-intel==2.13.0->tensorflow) (3.4.4)\n",
      "Requirement already satisfied: google-auth<3,>=1.6.3 in c:\\users\\hp\\appdata\\local\\programs\\python\\python310\\lib\\site-packages (from tensorboard<2.14,>=2.13->tensorflow-intel==2.13.0->tensorflow) (2.22.0)\n",
      "Requirement already satisfied: google-auth-oauthlib<1.1,>=0.5 in c:\\users\\hp\\appdata\\local\\programs\\python\\python310\\lib\\site-packages (from tensorboard<2.14,>=2.13->tensorflow-intel==2.13.0->tensorflow) (1.0.0)\n",
      "Requirement already satisfied: pyparsing!=3.0.5,>=2.0.2 in c:\\users\\hp\\appdata\\local\\programs\\python\\python310\\lib\\site-packages (from packaging->tensorflow-intel==2.13.0->tensorflow) (3.0.9)\n",
      "Requirement already satisfied: rsa<5,>=3.1.4 in c:\\users\\hp\\appdata\\local\\programs\\python\\python310\\lib\\site-packages (from google-auth<3,>=1.6.3->tensorboard<2.14,>=2.13->tensorflow-intel==2.13.0->tensorflow) (4.9)\n",
      "Requirement already satisfied: urllib3<2.0 in c:\\users\\hp\\appdata\\local\\programs\\python\\python310\\lib\\site-packages (from google-auth<3,>=1.6.3->tensorboard<2.14,>=2.13->tensorflow-intel==2.13.0->tensorflow) (1.26.12)\n",
      "Requirement already satisfied: pyasn1-modules>=0.2.1 in c:\\users\\hp\\appdata\\local\\programs\\python\\python310\\lib\\site-packages (from google-auth<3,>=1.6.3->tensorboard<2.14,>=2.13->tensorflow-intel==2.13.0->tensorflow) (0.3.0)\n",
      "Requirement already satisfied: cachetools<6.0,>=2.0.0 in c:\\users\\hp\\appdata\\local\\programs\\python\\python310\\lib\\site-packages (from google-auth<3,>=1.6.3->tensorboard<2.14,>=2.13->tensorflow-intel==2.13.0->tensorflow) (5.3.1)\n",
      "Requirement already satisfied: requests-oauthlib>=0.7.0 in c:\\users\\hp\\appdata\\local\\programs\\python\\python310\\lib\\site-packages (from google-auth-oauthlib<1.1,>=0.5->tensorboard<2.14,>=2.13->tensorflow-intel==2.13.0->tensorflow) (1.3.1)\n",
      "Requirement already satisfied: certifi>=2017.4.17 in c:\\users\\hp\\appdata\\local\\programs\\python\\python310\\lib\\site-packages (from requests<3,>=2.21.0->tensorboard<2.14,>=2.13->tensorflow-intel==2.13.0->tensorflow) (2022.9.14)\n",
      "Requirement already satisfied: idna<4,>=2.5 in c:\\users\\hp\\appdata\\local\\programs\\python\\python310\\lib\\site-packages (from requests<3,>=2.21.0->tensorboard<2.14,>=2.13->tensorflow-intel==2.13.0->tensorflow) (3.4)\n",
      "Requirement already satisfied: charset-normalizer<3,>=2 in c:\\users\\hp\\appdata\\local\\programs\\python\\python310\\lib\\site-packages (from requests<3,>=2.21.0->tensorboard<2.14,>=2.13->tensorflow-intel==2.13.0->tensorflow) (2.1.1)\n",
      "Requirement already satisfied: MarkupSafe>=2.1.1 in c:\\users\\hp\\appdata\\local\\programs\\python\\python310\\lib\\site-packages (from werkzeug>=1.0.1->tensorboard<2.14,>=2.13->tensorflow-intel==2.13.0->tensorflow) (2.1.1)\n",
      "Requirement already satisfied: pyasn1<0.6.0,>=0.4.6 in c:\\users\\hp\\appdata\\local\\programs\\python\\python310\\lib\\site-packages (from pyasn1-modules>=0.2.1->google-auth<3,>=1.6.3->tensorboard<2.14,>=2.13->tensorflow-intel==2.13.0->tensorflow) (0.5.0)\n",
      "Requirement already satisfied: oauthlib>=3.0.0 in c:\\users\\hp\\appdata\\local\\programs\\python\\python310\\lib\\site-packages (from requests-oauthlib>=0.7.0->google-auth-oauthlib<1.1,>=0.5->tensorboard<2.14,>=2.13->tensorflow-intel==2.13.0->tensorflow) (3.2.2)\n",
      "Note: you may need to restart the kernel to use updated packages.\n"
     ]
    },
    {
     "name": "stderr",
     "output_type": "stream",
     "text": [
      "\n",
      "[notice] A new release of pip available: 22.2.1 -> 23.2.1\n",
      "[notice] To update, run: python.exe -m pip install --upgrade pip\n"
     ]
    }
   ],
   "source": [
    "pip install tensorflow"
   ]
  },
  {
   "cell_type": "code",
   "execution_count": 3,
   "id": "2ea8a906",
   "metadata": {},
   "outputs": [],
   "source": [
    "#pip install keras==2.3.1"
   ]
  },
  {
   "cell_type": "code",
   "execution_count": 4,
   "id": "e12c1c3b",
   "metadata": {},
   "outputs": [],
   "source": [
    "import numpy as np\n",
    "import pandas as pd\n",
    "from sklearn.preprocessing import MinMaxScaler\n",
    "import tensorflow as tf \n",
    "from tensorflow.keras.models import Sequential\n",
    "from tensorflow.keras.layers import LSTM, Dense"
   ]
  },
  {
   "cell_type": "code",
   "execution_count": 5,
   "id": "650531c8",
   "metadata": {},
   "outputs": [],
   "source": [
    "data = pd.read_csv(\"C:/Users/HP/Downloads/archive(43)/Book1.csv\")"
   ]
  },
  {
   "cell_type": "code",
   "execution_count": 6,
   "id": "10b1c59c",
   "metadata": {},
   "outputs": [],
   "source": [
    "# Extract features and target\n",
    "features = data[['Closing Volume', 'Volume', '50-Day Moving Average', '200-Day Moving Average']].values\n",
    "target = data['Closing Volume'].values"
   ]
  },
  {
   "cell_type": "code",
   "execution_count": 7,
   "id": "497c92e7",
   "metadata": {},
   "outputs": [],
   "source": [
    "# Normalize the features\n",
    "scaler = MinMaxScaler()\n",
    "features_scaled = scaler.fit_transform(features)"
   ]
  },
  {
   "cell_type": "code",
   "execution_count": 8,
   "id": "8f2bdc2e",
   "metadata": {},
   "outputs": [],
   "source": [
    "# Define a function to create sequences and labels\n",
    "def create_sequences(data, seq_length):\n",
    "    sequences, labels = [], []\n",
    "    for i in range(len(data) - seq_length):\n",
    "        seq = data[i:i + seq_length]\n",
    "        label = data[i + seq_length]\n",
    "        sequences.append(seq)\n",
    "        labels.append(label)\n",
    "    return np.array(sequences), np.array(labels)"
   ]
  },
  {
   "cell_type": "code",
   "execution_count": 9,
   "id": "d7d56ec2",
   "metadata": {},
   "outputs": [],
   "source": [
    "# Define the sequence length\n",
    "sequence_length = 10  # You can adjust this value based on your needs"
   ]
  },
  {
   "cell_type": "code",
   "execution_count": 10,
   "id": "17edc560",
   "metadata": {},
   "outputs": [],
   "source": [
    "# Create sequences and labels\n",
    "X, y = create_sequences(features_scaled, sequence_length)"
   ]
  },
  {
   "cell_type": "code",
   "execution_count": 11,
   "id": "0f816d9e",
   "metadata": {},
   "outputs": [],
   "source": [
    "# Split the data into training and testing sets\n",
    "train_size = int(0.8 * len(X))\n",
    "X_train, X_test = X[:train_size], X[train_size:]\n",
    "y_train, y_test = y[:train_size], y[train_size:]"
   ]
  },
  {
   "cell_type": "code",
   "execution_count": 12,
   "id": "e5874c09",
   "metadata": {},
   "outputs": [],
   "source": [
    "# Build the LSTM model\n",
    "model = Sequential()\n",
    "model.add(LSTM(50, activation='relu', input_shape=(X_train.shape[1], X_train.shape[2])))\n",
    "model.add(Dense(1))  # Output layer with 1 neuron for regression"
   ]
  },
  {
   "cell_type": "code",
   "execution_count": 13,
   "id": "56250aa9",
   "metadata": {},
   "outputs": [],
   "source": [
    "# Compile the model\n",
    "model.compile(optimizer='adam', loss='mean_squared_error')"
   ]
  },
  {
   "cell_type": "code",
   "execution_count": 14,
   "id": "9c904182",
   "metadata": {},
   "outputs": [
    {
     "name": "stdout",
     "output_type": "stream",
     "text": [
      "Epoch 1/100\n",
      "63/63 - 5s - loss: 0.1313 - 5s/epoch - 72ms/step\n",
      "Epoch 2/100\n",
      "63/63 - 1s - loss: 0.0488 - 546ms/epoch - 9ms/step\n",
      "Epoch 3/100\n",
      "63/63 - 1s - loss: 0.0483 - 548ms/epoch - 9ms/step\n",
      "Epoch 4/100\n",
      "63/63 - 1s - loss: 0.0481 - 541ms/epoch - 9ms/step\n",
      "Epoch 5/100\n",
      "63/63 - 1s - loss: 0.0477 - 562ms/epoch - 9ms/step\n",
      "Epoch 6/100\n",
      "63/63 - 1s - loss: 0.0476 - 584ms/epoch - 9ms/step\n",
      "Epoch 7/100\n",
      "63/63 - 1s - loss: 0.0476 - 754ms/epoch - 12ms/step\n",
      "Epoch 8/100\n",
      "63/63 - 1s - loss: 0.0478 - 722ms/epoch - 11ms/step\n",
      "Epoch 9/100\n",
      "63/63 - 1s - loss: 0.0478 - 597ms/epoch - 9ms/step\n",
      "Epoch 10/100\n",
      "63/63 - 1s - loss: 0.0478 - 592ms/epoch - 9ms/step\n",
      "Epoch 11/100\n",
      "63/63 - 1s - loss: 0.0475 - 530ms/epoch - 8ms/step\n",
      "Epoch 12/100\n",
      "63/63 - 1s - loss: 0.0475 - 661ms/epoch - 10ms/step\n",
      "Epoch 13/100\n",
      "63/63 - 1s - loss: 0.0476 - 661ms/epoch - 10ms/step\n",
      "Epoch 14/100\n",
      "63/63 - 1s - loss: 0.0476 - 589ms/epoch - 9ms/step\n",
      "Epoch 15/100\n",
      "63/63 - 1s - loss: 0.0477 - 991ms/epoch - 16ms/step\n",
      "Epoch 16/100\n",
      "63/63 - 1s - loss: 0.0475 - 637ms/epoch - 10ms/step\n",
      "Epoch 17/100\n",
      "63/63 - 1s - loss: 0.0475 - 570ms/epoch - 9ms/step\n",
      "Epoch 18/100\n",
      "63/63 - 1s - loss: 0.0474 - 561ms/epoch - 9ms/step\n",
      "Epoch 19/100\n",
      "63/63 - 1s - loss: 0.0474 - 558ms/epoch - 9ms/step\n",
      "Epoch 20/100\n",
      "63/63 - 1s - loss: 0.0474 - 546ms/epoch - 9ms/step\n",
      "Epoch 21/100\n",
      "63/63 - 1s - loss: 0.0476 - 564ms/epoch - 9ms/step\n",
      "Epoch 22/100\n",
      "63/63 - 1s - loss: 0.0476 - 574ms/epoch - 9ms/step\n",
      "Epoch 23/100\n",
      "63/63 - 1s - loss: 0.0474 - 577ms/epoch - 9ms/step\n",
      "Epoch 24/100\n",
      "63/63 - 1s - loss: 0.0474 - 565ms/epoch - 9ms/step\n",
      "Epoch 25/100\n",
      "63/63 - 1s - loss: 0.0474 - 576ms/epoch - 9ms/step\n",
      "Epoch 26/100\n",
      "63/63 - 1s - loss: 0.0475 - 553ms/epoch - 9ms/step\n",
      "Epoch 27/100\n",
      "63/63 - 1s - loss: 0.0476 - 777ms/epoch - 12ms/step\n",
      "Epoch 28/100\n",
      "63/63 - 1s - loss: 0.0475 - 841ms/epoch - 13ms/step\n",
      "Epoch 29/100\n",
      "63/63 - 1s - loss: 0.0477 - 561ms/epoch - 9ms/step\n",
      "Epoch 30/100\n",
      "63/63 - 1s - loss: 0.0475 - 649ms/epoch - 10ms/step\n",
      "Epoch 31/100\n",
      "63/63 - 1s - loss: 0.0475 - 628ms/epoch - 10ms/step\n",
      "Epoch 32/100\n",
      "63/63 - 1s - loss: 0.0475 - 848ms/epoch - 13ms/step\n",
      "Epoch 33/100\n",
      "63/63 - 1s - loss: 0.0476 - 753ms/epoch - 12ms/step\n",
      "Epoch 34/100\n",
      "63/63 - 1s - loss: 0.0475 - 610ms/epoch - 10ms/step\n",
      "Epoch 35/100\n",
      "63/63 - 1s - loss: 0.0475 - 585ms/epoch - 9ms/step\n",
      "Epoch 36/100\n",
      "63/63 - 1s - loss: 0.0475 - 891ms/epoch - 14ms/step\n",
      "Epoch 37/100\n",
      "63/63 - 1s - loss: 0.0474 - 717ms/epoch - 11ms/step\n",
      "Epoch 38/100\n",
      "63/63 - 1s - loss: 0.0475 - 690ms/epoch - 11ms/step\n",
      "Epoch 39/100\n",
      "63/63 - 1s - loss: 0.0476 - 641ms/epoch - 10ms/step\n",
      "Epoch 40/100\n",
      "63/63 - 1s - loss: 0.0476 - 672ms/epoch - 11ms/step\n",
      "Epoch 41/100\n",
      "63/63 - 1s - loss: 0.0474 - 690ms/epoch - 11ms/step\n",
      "Epoch 42/100\n",
      "63/63 - 1s - loss: 0.0474 - 675ms/epoch - 11ms/step\n",
      "Epoch 43/100\n",
      "63/63 - 1s - loss: 0.0475 - 672ms/epoch - 11ms/step\n",
      "Epoch 44/100\n",
      "63/63 - 1s - loss: 0.0476 - 669ms/epoch - 11ms/step\n",
      "Epoch 45/100\n",
      "63/63 - 1s - loss: 0.0476 - 667ms/epoch - 11ms/step\n",
      "Epoch 46/100\n",
      "63/63 - 1s - loss: 0.0475 - 699ms/epoch - 11ms/step\n",
      "Epoch 47/100\n",
      "63/63 - 1s - loss: 0.0474 - 720ms/epoch - 11ms/step\n",
      "Epoch 48/100\n",
      "63/63 - 1s - loss: 0.0474 - 769ms/epoch - 12ms/step\n",
      "Epoch 49/100\n",
      "63/63 - 1s - loss: 0.0473 - 921ms/epoch - 15ms/step\n",
      "Epoch 50/100\n",
      "63/63 - 1s - loss: 0.0474 - 610ms/epoch - 10ms/step\n",
      "Epoch 51/100\n",
      "63/63 - 1s - loss: 0.0474 - 696ms/epoch - 11ms/step\n",
      "Epoch 52/100\n",
      "63/63 - 1s - loss: 0.0475 - 705ms/epoch - 11ms/step\n",
      "Epoch 53/100\n",
      "63/63 - 1s - loss: 0.0475 - 603ms/epoch - 10ms/step\n",
      "Epoch 54/100\n",
      "63/63 - 1s - loss: 0.0473 - 558ms/epoch - 9ms/step\n",
      "Epoch 55/100\n",
      "63/63 - 1s - loss: 0.0474 - 719ms/epoch - 11ms/step\n",
      "Epoch 56/100\n",
      "63/63 - 1s - loss: 0.0475 - 815ms/epoch - 13ms/step\n",
      "Epoch 57/100\n",
      "63/63 - 1s - loss: 0.0474 - 554ms/epoch - 9ms/step\n",
      "Epoch 58/100\n",
      "63/63 - 1s - loss: 0.0476 - 584ms/epoch - 9ms/step\n",
      "Epoch 59/100\n",
      "63/63 - 1s - loss: 0.0473 - 542ms/epoch - 9ms/step\n",
      "Epoch 60/100\n",
      "63/63 - 1s - loss: 0.0475 - 528ms/epoch - 8ms/step\n",
      "Epoch 61/100\n",
      "63/63 - 1s - loss: 0.0474 - 756ms/epoch - 12ms/step\n",
      "Epoch 62/100\n",
      "63/63 - 1s - loss: 0.0474 - 735ms/epoch - 12ms/step\n",
      "Epoch 63/100\n",
      "63/63 - 1s - loss: 0.0474 - 785ms/epoch - 12ms/step\n",
      "Epoch 64/100\n",
      "63/63 - 1s - loss: 0.0475 - 682ms/epoch - 11ms/step\n",
      "Epoch 65/100\n",
      "63/63 - 1s - loss: 0.0475 - 727ms/epoch - 12ms/step\n",
      "Epoch 66/100\n",
      "63/63 - 1s - loss: 0.0476 - 667ms/epoch - 11ms/step\n",
      "Epoch 67/100\n",
      "63/63 - 1s - loss: 0.0475 - 640ms/epoch - 10ms/step\n",
      "Epoch 68/100\n",
      "63/63 - 1s - loss: 0.0476 - 604ms/epoch - 10ms/step\n",
      "Epoch 69/100\n",
      "63/63 - 1s - loss: 0.0474 - 782ms/epoch - 12ms/step\n",
      "Epoch 70/100\n",
      "63/63 - 1s - loss: 0.0474 - 726ms/epoch - 12ms/step\n",
      "Epoch 71/100\n",
      "63/63 - 1s - loss: 0.0473 - 642ms/epoch - 10ms/step\n",
      "Epoch 72/100\n",
      "63/63 - 1s - loss: 0.0475 - 727ms/epoch - 12ms/step\n",
      "Epoch 73/100\n",
      "63/63 - 1s - loss: 0.0473 - 839ms/epoch - 13ms/step\n",
      "Epoch 74/100\n",
      "63/63 - 2s - loss: 0.0473 - 2s/epoch - 25ms/step\n",
      "Epoch 75/100\n",
      "63/63 - 1s - loss: 0.0474 - 770ms/epoch - 12ms/step\n",
      "Epoch 76/100\n",
      "63/63 - 1s - loss: 0.0475 - 756ms/epoch - 12ms/step\n",
      "Epoch 77/100\n",
      "63/63 - 1s - loss: 0.0474 - 671ms/epoch - 11ms/step\n",
      "Epoch 78/100\n",
      "63/63 - 1s - loss: 0.0475 - 557ms/epoch - 9ms/step\n",
      "Epoch 79/100\n",
      "63/63 - 1s - loss: 0.0474 - 536ms/epoch - 9ms/step\n",
      "Epoch 80/100\n",
      "63/63 - 1s - loss: 0.0474 - 547ms/epoch - 9ms/step\n",
      "Epoch 81/100\n",
      "63/63 - 1s - loss: 0.0473 - 520ms/epoch - 8ms/step\n",
      "Epoch 82/100\n",
      "63/63 - 1s - loss: 0.0474 - 526ms/epoch - 8ms/step\n",
      "Epoch 83/100\n",
      "63/63 - 1s - loss: 0.0473 - 526ms/epoch - 8ms/step\n",
      "Epoch 84/100\n",
      "63/63 - 1s - loss: 0.0473 - 522ms/epoch - 8ms/step\n",
      "Epoch 85/100\n",
      "63/63 - 1s - loss: 0.0474 - 541ms/epoch - 9ms/step\n",
      "Epoch 86/100\n",
      "63/63 - 1s - loss: 0.0477 - 529ms/epoch - 8ms/step\n",
      "Epoch 87/100\n",
      "63/63 - 1s - loss: 0.0473 - 541ms/epoch - 9ms/step\n",
      "Epoch 88/100\n",
      "63/63 - 1s - loss: 0.0474 - 545ms/epoch - 9ms/step\n",
      "Epoch 89/100\n",
      "63/63 - 1s - loss: 0.0474 - 530ms/epoch - 8ms/step\n",
      "Epoch 90/100\n",
      "63/63 - 1s - loss: 0.0472 - 528ms/epoch - 8ms/step\n",
      "Epoch 91/100\n",
      "63/63 - 1s - loss: 0.0472 - 529ms/epoch - 8ms/step\n",
      "Epoch 92/100\n",
      "63/63 - 1s - loss: 0.0472 - 527ms/epoch - 8ms/step\n",
      "Epoch 93/100\n",
      "63/63 - 1s - loss: 0.0473 - 511ms/epoch - 8ms/step\n",
      "Epoch 94/100\n",
      "63/63 - 1s - loss: 0.0471 - 523ms/epoch - 8ms/step\n",
      "Epoch 95/100\n",
      "63/63 - 1s - loss: 0.0473 - 520ms/epoch - 8ms/step\n",
      "Epoch 96/100\n",
      "63/63 - 1s - loss: 0.0474 - 532ms/epoch - 8ms/step\n",
      "Epoch 97/100\n",
      "63/63 - 1s - loss: 0.0473 - 532ms/epoch - 8ms/step\n",
      "Epoch 98/100\n",
      "63/63 - 1s - loss: 0.0472 - 515ms/epoch - 8ms/step\n",
      "Epoch 99/100\n",
      "63/63 - 1s - loss: 0.0473 - 529ms/epoch - 8ms/step\n",
      "Epoch 100/100\n",
      "63/63 - 1s - loss: 0.0473 - 532ms/epoch - 8ms/step\n"
     ]
    },
    {
     "data": {
      "text/plain": [
       "<keras.src.callbacks.History at 0x20004b01270>"
      ]
     },
     "execution_count": 14,
     "metadata": {},
     "output_type": "execute_result"
    }
   ],
   "source": [
    "# Train the model\n",
    "model.fit(X_train, y_train, epochs=100, batch_size=32, verbose=2)"
   ]
  },
  {
   "cell_type": "code",
   "execution_count": 15,
   "id": "681b8ce3",
   "metadata": {},
   "outputs": [
    {
     "name": "stdout",
     "output_type": "stream",
     "text": [
      "16/16 [==============================] - 1s 6ms/step\n"
     ]
    }
   ],
   "source": [
    "# Make predictions\n",
    "predicted_values_scaled = model.predict(X_test)\n",
    "predicted_values_reshaped=predicted_values_scaled.reshape(-1,1)"
   ]
  }
 ],
 "metadata": {
  "kernelspec": {
   "display_name": "Python 3 (ipykernel)",
   "language": "python",
   "name": "python3"
  },
  "language_info": {
   "codemirror_mode": {
    "name": "ipython",
    "version": 3
   },
   "file_extension": ".py",
   "mimetype": "text/x-python",
   "name": "python",
   "nbconvert_exporter": "python",
   "pygments_lexer": "ipython3",
   "version": "3.10.6"
  }
 },
 "nbformat": 4,
 "nbformat_minor": 5
}
